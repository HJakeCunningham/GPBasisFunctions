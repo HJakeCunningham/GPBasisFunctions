{
 "cells": [
  {
   "cell_type": "code",
   "execution_count": 1,
   "metadata": {},
   "outputs": [
    {
     "name": "stdout",
     "output_type": "stream",
     "text": [
      "[ 0.   0.   0.   0.   0.5  1.   1.5  2.   2.5  3.   3.5  4.   4.5  5.\n",
      "  5.5  6.   6.5  7.   7.5  8.   8.5  9.   9.5 10.  10.  10.  10. ]\n"
     ]
    }
   ],
   "source": [
    "import numpy as np\n",
    "import matplotlib.pyplot as plt\n",
    "from scipy import integrate\n",
    "import tensorflow as tf\n",
    "\n",
    "knots = np.linspace(0,10,21)\n",
    "knots = np.concatenate([np.repeat(knots[0], 3), knots, np.repeat(knots[-1], 3)])\n",
    "print(knots)\n"
   ]
  },
  {
   "cell_type": "markdown",
   "metadata": {},
   "source": [
    "## B Splines"
   ]
  },
  {
   "cell_type": "code",
   "execution_count": 2,
   "metadata": {},
   "outputs": [],
   "source": [
    "def B3_params(u, i):\n",
    "\n",
    "    D0 = (u[i+1] - u[i]) * (u[i+2] - u[i]) * (u[i+3] - u[i])\n",
    "    S0 = (u[i], u[i+1])\n",
    "    if D0 == 0:\n",
    "        P0 = ([0, 0, 0, 0], S0)\n",
    "    else:\n",
    "        C03 = 1/D0\n",
    "        C02 = 1/D0 * -3 * u[i]\n",
    "        C01 = 1/D0 * 3 * u[i]**2\n",
    "        C00 = 1/D0 * -u[i]**3\n",
    "        P0 = ([C00, C01, C02, C03], S0)\n",
    "\n",
    "\n",
    "    \n",
    "    D1 = (u[i+2] - u[i]) * (u[i+2] - u[i+1]) * (u[i+3] - u[i]) * (u[i+3] - u[i+1]) * (u[i+4] - u[i+1])\n",
    "    S1 = (u[i+1], u[i+2])\n",
    "    if D1 == 0:\n",
    "        P1 = ([0, 0, 0, 0], S1)\n",
    "    else:\n",
    "        C13 =  - 1/D1 * ( ((u[i+3] - u[i+1]) * (u[i+4] - u[i+1])) + ((u[i+2] - u[i]) * (u[i+4] - u[i+1])) + ((u[i+3] - u[i]) * (u[i+2] - u[i])) )\n",
    "        C12 = 1/D1 * ( (((u[i+3] - u[i+1]) * (u[i+4] - u[i+1])) * (2*u[i] + u[i+2])) + (((u[i+2] - u[i]) * (u[i+4] - u[i+1])) * (u[i] + u[i+1] + u[i+3])) + (((u[i+3] - u[i]) * (u[i+2] - u[i])) * (2*u[i+1] + u[i+4]) ))\n",
    "        C11 = - 1/D1 * ( (((u[i+3] - u[i+1]) * (u[i+4] - u[i+1])) * (u[i]**2 + 2*u[i]*u[i+2])) + (((u[i+2] - u[i]) * (u[i+4] - u[i+1])) * (u[i]*u[i+1] + u[i]*u[i+3] + u[i+1]*u[i+3])) + (((u[i+3] - u[i]) * (u[i+2] - u[i])) * (u[i+1]**2 + 2*u[i+1]*u[i+4])))\n",
    "        C10 =  1/D1 * ( ((u[i+3] - u[i+1]) * (u[i+4] - u[i+1]) * u[i]**2 * u[i+2]) + ((u[i+2] - u[i]) * (u[i+4] - u[i+1]) * u[i] * u[i+1] * u[i+3]) + ((u[i+3] - u[i]) * (u[i+2] - u[i]) * u[i+1]**2 * u[i+4]) )\n",
    "        P1 = ([C10, C11, C12, C13], S1)\n",
    "\n",
    "    D2 = (u[i+3] - u[i]) * (u[i+3] - u[i+1]) * (u[i+3] - u[i+2]) * (u[i+4] - u[i+1]) * (u[i+4] - u[i+2])\n",
    "    S2 = (u[i+2], u[i+3])\n",
    "    if D2 == 0:\n",
    "        P2 = ([0, 0, 0, 0], S2)\n",
    "    else:\n",
    "        C23 = 1/D2 * (((u[i+4] - u[i+1]) * (u[i+4] - u[i+2])) + ((u[i+3] - u[i]) * (u[i+4] - u[i+2])) + ((u[i+3] - u[i]) * (u[i+3] - u[i+1])))\n",
    "        C22 = -1/D2 * (((u[i+4] - u[i+1]) * (u[i+4] - u[i+2]) * (u[i] + 2*u[i+3])) + ((u[i+3] - u[i]) * (u[i+4] - u[i+2]) * (u[i+1] + u[i+3] + u[i+4])) + ((u[i+3] - u[i]) * (u[i+3] - u[i+1]) * (u[i+2] + 2*u[i+4])))\n",
    "        C21 = 1/D2 * (((u[i+4] - u[i+1]) * (u[i+4] - u[i+2]) * (u[i+3]**2 + 2*u[i]*u[i+3])) + ((u[i+3] - u[i]) * (u[i+4] - u[i+2]) * (u[i+1]*u[i+4] + u[i+1]*u[i+3] + u[i+3]*u[i+4])) + ((u[i+3] - u[i]) * (u[i+3] - u[i+1]) * (2*u[i+2]*u[i+4] + u[i+4]**2)))\n",
    "        C20 = -1/D2 * (((u[i+4] - u[i+1]) * (u[i+4] - u[i+2]) * (u[i]*u[i+3]**2)) + ((u[i+3] - u[i]) * (u[i+4] - u[i+2]) * (u[i+1]*u[i+3]*u[i+4])) + ((u[i+3] - u[i]) * (u[i+3] - u[i+1]) * (u[i+2]*u[i+4]**2)))\n",
    "        P2 = ([C20, C21, C22, C23], S2)\n",
    "\n",
    "    D3 = (u[i+4] - u[i+1]) * (u[i+4] - u[i+2]) * (u[i+4] - u[i+3])\n",
    "    S3 = (u[i+3], u[i+4])\n",
    "    if D3 == 0:\n",
    "        P3 = ([0, 0, 0, 0], S3)\n",
    "    else:\n",
    "        C33 = 1/D3 * -1\n",
    "        C32 = 1/D3 * 3 * u[i+4]\n",
    "        C31 = 1/D3 * -3 * u[i+4]**2\n",
    "        C30 = 1/D3 * u[i+4]**3\n",
    "        P3 = ([C30, C31, C32, C33], S3)\n",
    "\n",
    "    params = [P0, P1, P2, P3]\n",
    "\n",
    "    return params\n",
    "\n",
    "def grad_B3_params(u, i):\n",
    "    P = B3_params(u, i)\n",
    "    P_dash = []\n",
    "    for i in range(4):\n",
    "        P_dash.append(([P[i][0][1], 2*P[i][0][2], 3*P[i][0][3], 0], P[i][1]))\n",
    "    return P_dash\n",
    "\n",
    "def grad_grad_B3_params(u, i):\n",
    "    P = B3_params(u, i)\n",
    "    P_dash_dash = []\n",
    "    for i in range(4):\n",
    "        P_dash_dash.append(([2*P[i][0][2], 6*P[i][0][3], 0, 0], P[i][1]))\n",
    "    return P_dash_dash  \n"
   ]
  },
  {
   "cell_type": "markdown",
   "metadata": {},
   "source": [
    "## Products"
   ]
  },
  {
   "cell_type": "code",
   "execution_count": 3,
   "metadata": {},
   "outputs": [],
   "source": [
    "def __param_product(p1, p2):\n",
    "\n",
    "    C0 = p1[0]*p2[0]\n",
    "    C1 = p1[0]*p2[1] + p1[1]*p2[0]\n",
    "    C2 = p1[0]*p2[2] + p1[1]*p2[1] + p1[2]*p2[0]\n",
    "    C3 = p1[0]*p2[3] + p1[1]*p2[2] + p1[2]*p2[1] + p1[3]*p2[0]\n",
    "    C4 = p1[1]*p2[3] + p1[2]*p2[2] + p1[3]*p2[1]\n",
    "    C5 = p1[2]*p2[3] + p1[3]*p2[2]\n",
    "    C6 = p1[3]*p2[3]\n",
    "\n",
    "    return [C0, C1, C2, C3, C4, C5, C6]\n",
    "\n",
    "def B3_product(knots, i, j):\n",
    "\n",
    "    params_1 = B3_params(knots, i)\n",
    "    params_2 = B3_params(knots, j)\n",
    "\n",
    "    # idx_1 = np.where(knots == params_1[-1][1][1])[0][0]\n",
    "    # idx_2 = np.where(knots == params_2[-1][1][1])[0][0]\n",
    "    # offset = idx_2 - idx_1\n",
    "\n",
    "    offset = j-i\n",
    "\n",
    "    if abs(offset) > 3:\n",
    "        return 0\n",
    "    else:\n",
    "        product = []\n",
    "        for i in range(4 - abs(int(offset))):\n",
    "            if offset < 0:\n",
    "                p1 = params_1[i][0]\n",
    "                p2 = params_2[i-int(offset)][0]\n",
    "                s = params_1[i][1]\n",
    "            else:\n",
    "                p1 = params_1[i + int(offset)][0]\n",
    "                p2 = params_2[i][0]\n",
    "                s = params_2[i][1]\n",
    "            product.append((__param_product(p1, p2), s))\n",
    "\n",
    "        return product\n",
    "\n",
    "def grad_B3_product(knots, i, j):\n",
    "    \n",
    "    params_1 = grad_B3_params(knots, i)\n",
    "    params_2 = grad_B3_params(knots, j)\n",
    "    offset = j-i\n",
    "    if abs(offset) > 3:\n",
    "        return 0\n",
    "    else:\n",
    "        product = []\n",
    "        for i in range(4 - abs(int(offset))):\n",
    "            if offset < 0:\n",
    "                p1 = params_1[i][0]\n",
    "                p2 = params_2[i-int(offset)][0]\n",
    "                s = params_1[i][1]\n",
    "            else:\n",
    "                p1 = params_1[i + int(offset)][0]\n",
    "                p2 = params_2[i][0]\n",
    "                s = params_2[i][1]\n",
    "            product.append((__param_product(p1, p2), s))\n",
    "\n",
    "        return product\n",
    "    "
   ]
  },
  {
   "cell_type": "markdown",
   "metadata": {},
   "source": [
    "## Integration"
   ]
  },
  {
   "cell_type": "code",
   "execution_count": 4,
   "metadata": {},
   "outputs": [],
   "source": [
    "def param_integrate(params):\n",
    "\n",
    "    if params == 0:\n",
    "        return 0\n",
    "\n",
    "    else:\n",
    "\n",
    "        integral = 0\n",
    "\n",
    "        for param in params:\n",
    "            a = param[1][0]\n",
    "            b = param[1][1]\n",
    "\n",
    "            i_constants = [1/x for x in range(1, len(param[0])+1)]\n",
    "            i_param = [0] + [a*b for a,b in zip(i_constants,param[0])]\n",
    "\n",
    "            a_p = [a**i for i, a in enumerate([a]*len(i_param))]\n",
    "            b_p = [b**i for i, b in enumerate([b]*len(i_param))]\n",
    "\n",
    "            d = [b-a for a,b in zip(a_p, b_p)]\n",
    "\n",
    "            integral += sum(i*d for i,d in zip(i_param, d))\n",
    "\n",
    "        return integral\n",
    "\n",
    "\n"
   ]
  },
  {
   "cell_type": "markdown",
   "metadata": {},
   "source": [
    "## Gram Matrix"
   ]
  },
  {
   "cell_type": "code",
   "execution_count": 5,
   "metadata": {},
   "outputs": [],
   "source": [
    "def RKHS_IP(knots, i, j, l, sigma):\n",
    "\n",
    "    p = B3_product(knots, i, j)\n",
    "    p_dash = grad_B3_product(knots, i, j)\n",
    "\n",
    "    integral = param_integrate(p)\n",
    "    integral_dash = param_integrate(p_dash)\n",
    "\n",
    "    term_1 = l/(2*sigma**2) * integral_dash\n",
    "    term_2 = 1/(2*l*sigma**2) * integral\n",
    "\n",
    "    return term_1 + term_2\n",
    "\n",
    "def Gram_Matrix(knots, l, sigma):\n",
    "\n",
    "    GM = np.zeros((len(knots)-1-3, len(knots)-1-3))\n",
    "\n",
    "    for i in range(len(knots)-1-3):\n",
    "        for j in range(len(knots)-1-3):\n",
    "            GM[i,j] = RKHS_IP(knots, i, j, l=1, sigma=1)\n",
    "    return GM"
   ]
  },
  {
   "cell_type": "code",
   "execution_count": 6,
   "metadata": {},
   "outputs": [],
   "source": [
    "from scipy.sparse import diags\n",
    "\n",
    "def Gram_Matrix_new(knots, l, sigma):\n",
    "    elements = []\n",
    "    for i in range(7):\n",
    "        elements.append(RKHS_IP(knots, i, 3, l=l, sigma=sigma))\n",
    "    Kuu_sparse = diags(elements, [-3, -2, -1, 0, 1, 2, 3], shape=(len(knots)-1-3, len(knots)-1-3))\n",
    "    return Kuu_sparse\n",
    "\n",
    "def convert_sparse_matrix_to_sparse_tensor(X):\n",
    "    coo = X.tocoo()\n",
    "    indices = np.mat([coo.row, coo.col]).transpose()\n",
    "    return tf.sparse.reorder(tf.SparseTensor(indices, coo.data, coo.shape))\n",
    "\n",
    "\n"
   ]
  },
  {
   "cell_type": "code",
   "execution_count": 7,
   "metadata": {},
   "outputs": [
    {
     "name": "stdout",
     "output_type": "stream",
     "text": [
      "tf.Tensor(\n",
      "[[ 79.32617188 -13.3203125  -24.98925781 ...   0.           0.\n",
      "    0.        ]\n",
      " [-13.88476562  79.32617188 -13.3203125  ...   0.           0.\n",
      "    0.        ]\n",
      " [-24.42822266 -13.88476562  79.32617188 ...   0.           0.\n",
      "    0.        ]\n",
      " ...\n",
      " [  0.           0.           0.         ...  79.32617188 -13.3203125\n",
      "  -24.98925781]\n",
      " [  0.           0.           0.         ... -13.88476562  79.32617188\n",
      "  -13.3203125 ]\n",
      " [  0.           0.           0.         ... -24.42822266 -13.88476562\n",
      "   79.32617188]], shape=(996, 996), dtype=float64)\n"
     ]
    },
    {
     "name": "stderr",
     "output_type": "stream",
     "text": [
      "2022-02-08 15:38:18.973153: I tensorflow/stream_executor/cuda/cuda_gpu_executor.cc:936] successful NUMA node read from SysFS had negative value (-1), but there must be at least one NUMA node, so returning NUMA node zero\n",
      "2022-02-08 15:38:19.003252: I tensorflow/stream_executor/cuda/cuda_gpu_executor.cc:936] successful NUMA node read from SysFS had negative value (-1), but there must be at least one NUMA node, so returning NUMA node zero\n",
      "2022-02-08 15:38:19.003449: I tensorflow/stream_executor/cuda/cuda_gpu_executor.cc:936] successful NUMA node read from SysFS had negative value (-1), but there must be at least one NUMA node, so returning NUMA node zero\n",
      "2022-02-08 15:38:19.004165: I tensorflow/core/platform/cpu_feature_guard.cc:151] This TensorFlow binary is optimized with oneAPI Deep Neural Network Library (oneDNN) to use the following CPU instructions in performance-critical operations:  AVX2 FMA\n",
      "To enable them in other operations, rebuild TensorFlow with the appropriate compiler flags.\n",
      "2022-02-08 15:38:19.005453: I tensorflow/stream_executor/cuda/cuda_gpu_executor.cc:936] successful NUMA node read from SysFS had negative value (-1), but there must be at least one NUMA node, so returning NUMA node zero\n",
      "2022-02-08 15:38:19.005598: I tensorflow/stream_executor/cuda/cuda_gpu_executor.cc:936] successful NUMA node read from SysFS had negative value (-1), but there must be at least one NUMA node, so returning NUMA node zero\n",
      "2022-02-08 15:38:19.005724: I tensorflow/stream_executor/cuda/cuda_gpu_executor.cc:936] successful NUMA node read from SysFS had negative value (-1), but there must be at least one NUMA node, so returning NUMA node zero\n",
      "2022-02-08 15:38:19.424042: I tensorflow/stream_executor/cuda/cuda_gpu_executor.cc:936] successful NUMA node read from SysFS had negative value (-1), but there must be at least one NUMA node, so returning NUMA node zero\n",
      "2022-02-08 15:38:19.424217: I tensorflow/stream_executor/cuda/cuda_gpu_executor.cc:936] successful NUMA node read from SysFS had negative value (-1), but there must be at least one NUMA node, so returning NUMA node zero\n",
      "2022-02-08 15:38:19.424371: I tensorflow/stream_executor/cuda/cuda_gpu_executor.cc:936] successful NUMA node read from SysFS had negative value (-1), but there must be at least one NUMA node, so returning NUMA node zero\n",
      "2022-02-08 15:38:19.424491: I tensorflow/core/common_runtime/gpu/gpu_device.cc:1525] Created device /job:localhost/replica:0/task:0/device:GPU:0 with 10178 MB memory:  -> device: 0, name: NVIDIA TITAN V, pci bus id: 0000:41:00.0, compute capability: 7.0\n"
     ]
    }
   ],
   "source": [
    "knots = np.linspace(-2,2,1000)\n",
    "GM_sparse_matrix = Gram_Matrix_new(knots, l=1, sigma=1)\n",
    "GM_sparse_tensor = convert_sparse_matrix_to_sparse_tensor(GM_sparse_matrix)\n",
    "GM_tensor = tf.sparse.to_dense(GM_sparse_tensor)\n",
    "\n",
    "print(GM_tensor)\n"
   ]
  },
  {
   "cell_type": "markdown",
   "metadata": {},
   "source": [
    "## Plotting"
   ]
  },
  {
   "cell_type": "code",
   "execution_count": 8,
   "metadata": {},
   "outputs": [],
   "source": [
    "def function_values(params):\n",
    "\n",
    "    X = []\n",
    "    F = []\n",
    "\n",
    "    for i in range(len(params)):\n",
    "        x = np.linspace(params[i][1][0], params[i][1][1], 50)\n",
    "        X.append(x)\n",
    "        f = []\n",
    "        for j in range(len(params[0][0])):\n",
    "            f.append(params[i][0][j] * x**j)\n",
    "        F.append(sum(f))\n",
    "\n",
    "    return np.concatenate(X).ravel(), np.concatenate(F).ravel()"
   ]
  },
  {
   "cell_type": "code",
   "execution_count": 9,
   "metadata": {},
   "outputs": [
    {
     "data": {
      "text/plain": [
       "[<matplotlib.lines.Line2D at 0x7f1a010a58b0>]"
      ]
     },
     "execution_count": 9,
     "metadata": {},
     "output_type": "execute_result"
    },
    {
     "data": {
      "image/png": "[encoded data removed]",
      "text/plain": [
       "<Figure size 432x288 with 1 Axes>"
      ]
     },
     "metadata": {
      "needs_background": "light"
     },
     "output_type": "display_data"
    }
   ],
   "source": [
    "i = 0\n",
    "j = 3\n",
    "\n",
    "x0, B0 = function_values(B3_params(knots, i))\n",
    "x1, B1 = function_values(B3_params(knots, j))\n",
    "xp, Bp = function_values(B3_product(knots, i, j))\n",
    "\n",
    "plt.plot(x0, B0)\n",
    "plt.plot(x1, B1)\n",
    "plt.plot(xp, Bp)\n"
   ]
  },
  {
   "cell_type": "code",
   "execution_count": 10,
   "metadata": {},
   "outputs": [
    {
     "name": "stdout",
     "output_type": "stream",
     "text": [
      "0.0008963044677330959\n"
     ]
    }
   ],
   "source": [
    "integral = integrate.trapezoid(Bp, xp)\n",
    "print(integral)"
   ]
  },
  {
   "cell_type": "code",
   "execution_count": 11,
   "metadata": {},
   "outputs": [
    {
     "data": {
      "text/plain": [
       "[<matplotlib.lines.Line2D at 0x7f19f84fe6a0>]"
      ]
     },
     "execution_count": 11,
     "metadata": {},
     "output_type": "execute_result"
    },
    {
     "data": {
      "image/png": "[encoded data removed]",
      "text/plain": [
       "<Figure size 432x288 with 1 Axes>"
      ]
     },
     "metadata": {
      "needs_background": "light"
     },
     "output_type": "display_data"
    }
   ],
   "source": [
    "i = 1\n",
    "j = 2\n",
    "\n",
    "x0, B0 = function_values(grad_B3_params(knots, i))\n",
    "x1, B1 = function_values(grad_B3_params(knots, j))\n",
    "xp, Bp = function_values(grad_B3_product(knots, i, j))\n",
    "\n",
    "plt.plot(x0, B0)\n",
    "plt.plot(x1, B1)\n",
    "plt.plot(xp, Bp)"
   ]
  },
  {
   "cell_type": "code",
   "execution_count": 12,
   "metadata": {},
   "outputs": [
    {
     "name": "stdout",
     "output_type": "stream",
     "text": [
      "-31.2484933913507\n"
     ]
    }
   ],
   "source": [
    "integral = integrate.trapezoid(Bp, xp)\n",
    "print(integral)"
   ]
  },
  {
   "cell_type": "markdown",
   "metadata": {},
   "source": [
    "## 2D B-Splines"
   ]
  },
  {
   "cell_type": "code",
   "execution_count": 13,
   "metadata": {},
   "outputs": [],
   "source": [
    "def __is_in_support(params, x):\n",
    "    if x > params[0][1][0] and x <= params[-1][1][1]:\n",
    "        return True\n",
    "\n",
    "def __which_peicewise_polynomial(params, x):\n",
    "    for i in range(len(params)):\n",
    "        if x > params[i][1][0] and x <= params[i][1][1]:\n",
    "            return i\n",
    "\n",
    "def Matern12_Kuf(knots, l, sigma, X):\n",
    "\n",
    "    Kuf = np.zeros((len(knots)-1-3, len(X)))\n",
    "\n",
    "    # Loop over basis functions\n",
    "    for i in range(len(knots)-1-3):\n",
    "        params = B3_params(knots, i)\n",
    "\n",
    "        # Loop over data\n",
    "        for j, x in enumerate(X):\n",
    "\n",
    "            # Check to see if datapoint is within support of basis function\n",
    "            if __is_in_support(params, x):\n",
    "                p = __which_peicewise_polynomial(params, x)\n",
    "\n",
    "                # Evaluate basis function at x\n",
    "                f = 0 \n",
    "                for k in range(len(params[p][0])):\n",
    "                    f += params[p][0][k] * x**k\n",
    "\n",
    "                Kuf[i,j] = f\n",
    "\n",
    "            else:\n",
    "                Kuf[i,j] = 0\n",
    "\n",
    "    return tf.convert_to_tensor(Kuf)"
   ]
  },
  {
   "cell_type": "code",
   "execution_count": 96,
   "metadata": {},
   "outputs": [],
   "source": [
    "from bisect import bisect\n",
    "\n",
    "def __evaluate_basis_function(knots, B, x, i):\n",
    "    params = B3_params(knots, B)[i]\n",
    "\n",
    "    if x>params[1][0] and x<params[1][1]:\n",
    "        f = 0\n",
    "        for i, p in enumerate(params[0]):\n",
    "            f += p * x**i\n",
    "        return f\n",
    "    else:\n",
    "        print('SUPPORTS DO NOT MATCH')\n",
    "\n",
    "\n",
    "def Matern12_Kuf_new(knots, l, sigma, X):\n",
    "    Kuf = np.zeros((len(knots)-4, len(X)))\n",
    "    for j, x in enumerate(X):\n",
    "        i0 = bisect(knots, x)\n",
    "        # i = parameter index, B = Basis function index\n",
    "        for i, B in enumerate(np.arange(max(0, i0-4), i0)[::-1]):\n",
    "            if B < 7:\n",
    "                Kuf[B, j] = __evaluate_basis_function(knots, B, x, i)\n",
    "    return tf.convert_to_tensor(Kuf)\n",
    "\n",
    "\n",
    "        "
   ]
  },
  {
   "cell_type": "code",
   "execution_count": 100,
   "metadata": {},
   "outputs": [
    {
     "ename": "ModuleNotFoundError",
     "evalue": "No module named 'BSplines'",
     "output_type": "error",
     "traceback": [
      "\u001b[0;31m---------------------------------------------------------------------------\u001b[0m",
      "\u001b[0;31mModuleNotFoundError\u001b[0m                       Traceback (most recent call last)",
      "\u001b[1;32m/home/jake/Documents/GPBasisFunctions/Data_driven_orthogonal_basis_selection/methods/bsplines_generation.ipynb Cell 21'\u001b[0m in \u001b[0;36m<module>\u001b[0;34m\u001b[0m\n\u001b[0;32m----> <a href='vscode-notebook-cell://ssh-remote%2Bsaturn/home/jake/Documents/GPBasisFunctions/Data_driven_orthogonal_basis_selection/methods/bsplines_generation.ipynb#ch0000020vscode-remote?line=0'>1</a>\u001b[0m \u001b[39mimport\u001b[39;00m \u001b[39mBSplines\u001b[39;00m\n\u001b[1;32m      <a href='vscode-notebook-cell://ssh-remote%2Bsaturn/home/jake/Documents/GPBasisFunctions/Data_driven_orthogonal_basis_selection/methods/bsplines_generation.ipynb#ch0000020vscode-remote?line=2'>3</a>\u001b[0m X \u001b[39m=\u001b[39m np\u001b[39m.\u001b[39mlinspace(\u001b[39m-\u001b[39m\u001b[39m1.9\u001b[39m, \u001b[39m1.9\u001b[39m, \u001b[39m6000\u001b[39m)\n\u001b[1;32m      <a href='vscode-notebook-cell://ssh-remote%2Bsaturn/home/jake/Documents/GPBasisFunctions/Data_driven_orthogonal_basis_selection/methods/bsplines_generation.ipynb#ch0000020vscode-remote?line=3'>4</a>\u001b[0m knots \u001b[39m=\u001b[39m np\u001b[39m.\u001b[39mlinspace(\u001b[39m-\u001b[39m\u001b[39m3\u001b[39m,\u001b[39m3\u001b[39m,\u001b[39m3000\u001b[39m)\n",
      "\u001b[0;31mModuleNotFoundError\u001b[0m: No module named 'BSplines'"
     ]
    }
   ],
   "source": [
    "import BSplines\n",
    "\n",
    "X = np.linspace(-1.9, 1.9, 6000)\n",
    "knots = np.linspace(-3,3,3000)\n",
    "Kuf = BSplines.Matern12_Kuf(knots, X)\n",
    "\n",
    "print(Kuf)"
   ]
  },
  {
   "cell_type": "code",
   "execution_count": 5,
   "metadata": {},
   "outputs": [
    {
     "name": "stdout",
     "output_type": "stream",
     "text": [
      "0\n"
     ]
    }
   ],
   "source": [
    "for i in range(0,1):\n",
    "    print(i)"
   ]
  },
  {
   "cell_type": "code",
   "execution_count": null,
   "metadata": {},
   "outputs": [],
   "source": []
  }
 ],
 "metadata": {
  "interpreter": {
   "hash": "8763e5ea16b716ad1eeffeab5f34109bd722594d0305e114e3d37565ed57b2a4"
  },
  "kernelspec": {
   "display_name": "Python 3.9.7 64-bit ('base': conda)",
   "language": "python",
   "name": "python3"
  },
  "language_info": {
   "codemirror_mode": {
    "name": "ipython",
    "version": 3
   },
   "file_extension": ".py",
   "mimetype": "text/x-python",
   "name": "python",
   "nbconvert_exporter": "python",
   "pygments_lexer": "ipython3",
   "version": "3.8.10"
  },
  "orig_nbformat": 4
 },
 "nbformat": 4,
 "nbformat_minor": 2
}
