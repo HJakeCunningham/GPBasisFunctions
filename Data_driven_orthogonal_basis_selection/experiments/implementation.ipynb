{
 "cells": [
  {
   "cell_type": "code",
   "execution_count": 10,
   "metadata": {},
   "outputs": [],
   "source": [
    "import numpy as np\n",
    "import matplotlib.pyplot as plt\n",
    "import pandas as pd\n",
    "import scipy as "
   ]
  },
  {
   "cell_type": "markdown",
   "metadata": {},
   "source": [
    "## Data driven orthogonal basis selection for functional data analysis\n",
    "\n",
    "* In practise, basis fucntions for data representation are chosen for their mathematical conveniece: Fourier basis are used to describe periodic data and spline bases are used for functional information without any strongly cyclic variation [From functional data to smooth functions - J. Ramsay and B. Silverman]<br>\n",
    "\n",
    "* Alternatively, large (high-dimensional) basis are used to assure that the representation is sufficientily accurate<br>\n",
    "\n",
    "* In both cases there exist inefficiencies leading to unncecessarily complex problems"
   ]
  },
  {
   "cell_type": "markdown",
   "metadata": {},
   "source": [
    "Paper proposes an algorithmic search for efficient knot patterns and uses them for representation of sparse data, incorporating machine learning algorithms for the choice of basis reducing the mean square error uniformly for all samples"
   ]
  },
  {
   "cell_type": "markdown",
   "metadata": {},
   "source": [
    "Method efficiently learns from the data knot placements, before constructing an orthonormal spline basis, termed splinets as an efficient orthogonalisation of the B-splines"
   ]
  },
  {
   "cell_type": "markdown",
   "metadata": {},
   "source": [
    "## Splines"
   ]
  },
  {
   "cell_type": "markdown",
   "metadata": {},
   "source": [
    "* Splines divide the distribution of the data into separate portions and fit linear or low degree polynomial functions on each of these portions. \n",
    "* The points where the division occurs are called knots\n",
    "* Functions that we can use for modelling each portion are knwon as piecewise functions"
   ]
  },
  {
   "cell_type": "code",
   "execution_count": 49,
   "metadata": {},
   "outputs": [
    {
     "data": {
      "text/plain": [
       "[<matplotlib.lines.Line2D at 0x7f1a3308fbb0>]"
      ]
     },
     "execution_count": 49,
     "metadata": {},
     "output_type": "execute_result"
    },
    {
     "data": {
      "image/png": "[encoded data removed]",
      "text/plain": [
       "<Figure size 432x288 with 1 Axes>"
      ]
     },
     "metadata": {
      "needs_background": "light"
     },
     "output_type": "display_data"
    }
   ],
   "source": [
    "data = np.genfromtxt('/home/jake/Documents/GPBasisFunctions/Data_driven_orthogonal_basis_selection/data/solar.txt', delimiter=',')\n",
    "X = data[:, 0:1]\n",
    "Y = data[:, 2:3]\n",
    "Y = (Y - Y.mean()) / Y.std()\n",
    "\n",
    "# remove some chunks of data\n",
    "X_test, Y_test = [], []\n",
    "\n",
    "intervals = ((1620, 1650), (1700, 1720), (1780, 1800), (1850, 1870), (1930, 1950))\n",
    "for low, up in intervals:\n",
    "    ind = np.logical_and(X.flatten() > low, X.flatten() < up)\n",
    "    X_test.append(X[ind])\n",
    "    Y_test.append(Y[ind])\n",
    "    X = np.delete(X, np.where(ind)[0], axis=0)\n",
    "    Y = np.delete(Y, np.where(ind)[0], axis=0)\n",
    "X_test, Y_test = np.vstack(X_test), np.vstack(Y_test)\n",
    "\n",
    "X_train = pd.DataFrame(X.flatten())\n",
    "Y_train = pd.DataFrame(Y.flatten())\n",
    "X_test = pd.DataFrame(X_test)\n",
    "Y_test = pd.DataFrame(Y_test)\n",
    "\n",
    "plt.plot(X_train[0], Y_train[0])"
   ]
  },
  {
   "cell_type": "code",
   "execution_count": 93,
   "metadata": {},
   "outputs": [
    {
     "data": {
      "text/plain": [
       "<matplotlib.collections.PathCollection at 0x7f1a2fa3d640>"
      ]
     },
     "execution_count": 93,
     "metadata": {},
     "output_type": "execute_result"
    },
    {
     "data": {
      "image/png": "[encoded data removed]",
      "text/plain": [
       "<Figure size 432x288 with 1 Axes>"
      ]
     },
     "metadata": {
      "needs_background": "light"
     },
     "output_type": "display_data"
    }
   ],
   "source": [
    "from sklearn.model_selection import train_test_split\n",
    "\n",
    "X = np.linspace(0,100,50)\n",
    "Y = np.sin(0.05*X) + 0.02*X + 0.2*np.sin(X)\n",
    "\n",
    "X_train, X_test, Y_train, Y_test = train_test_split(X, Y, test_size=0.33, random_state=42)\n",
    "\n",
    "plt.scatter(X_train,Y_train)"
   ]
  },
  {
   "cell_type": "markdown",
   "metadata": {},
   "source": [
    "## Polynomial Regression"
   ]
  },
  {
   "cell_type": "code",
   "execution_count": 174,
   "metadata": {},
   "outputs": [],
   "source": [
    "class polynomial_regression:\n",
    "\n",
    "    def __init__(self, X, Y, order):\n",
    "\n",
    "        # Data\n",
    "        self.X = X\n",
    "        self.Y = Y\n",
    "        self.X_train, self.X_test, self.Y_train, self.Y_test = train_test_split(self.X, self.Y, test_size=0.8)\n",
    "\n",
    "        # Parameters\n",
    "        self.order = order\n",
    "        self.theta = None\n",
    "\n",
    "        # Prediction\n",
    "        self.Y_predict = None\n",
    "        self._MSE = None\n",
    "\n",
    "    def feature_matrix(self, X):\n",
    "        PHI = []\n",
    "        for x in X:\n",
    "            phi = []\n",
    "            for i in range(self.order+1):\n",
    "                phi.append(x**i)\n",
    "            PHI.append(phi)\n",
    "        PHI = np.array(PHI).reshape([X.shape[0],self.order+1])\n",
    "        return PHI\n",
    "\n",
    "    def MLE(self):\n",
    "        PHI = self.feature_matrix(self.X_train)\n",
    "        theta = np.matmul(np.matmul(np.linalg.inv(np.matmul(np.transpose(PHI),PHI)),np.transpose(PHI)),self.Y_train)\n",
    "        self.theta = np.array(theta).reshape([self.order+1, 1])\n",
    "        return \n",
    "\n",
    "    def predict(self, X):\n",
    "        PHI_test = self.feature_matrix(X)\n",
    "        Y_predict = np.matmul(PHI_test, self.theta)\n",
    "        return Y_predict\n",
    "\n",
    "    def plot(self):\n",
    "        fig = plt.figure(figsize=(9,6))\n",
    "        plt.scatter(self.X_train, self.Y_train, color='black')\n",
    "        #plt.scatter(self.X_test, self.Y_test, color='red')\n",
    "        y_theta = self.predict(X)\n",
    "        plt.plot(X, y_theta)\n",
    "\n",
    "    def MSE(self):\n",
    "        self.Y_predict = self.predict(self.X_test)\n",
    "        self._MSE = np.mean((self.Y_test - self.Y_predict)**2)\n",
    "        print('MSE = ', self._MSE)\n",
    "\n",
    "    def inference(self):\n",
    "        self.MLE()\n",
    "        self.MSE()\n",
    "        self.plot()\n"
   ]
  },
  {
   "cell_type": "code",
   "execution_count": 203,
   "metadata": {},
   "outputs": [
    {
     "name": "stdout",
     "output_type": "stream",
     "text": [
      "MSE =  0.41708630686344456\n"
     ]
    },
    {
     "data": {
      "image/png": "[encoded data removed]",
      "text/plain": [
       "<Figure size 432x288 with 1 Axes>"
      ]
     },
     "metadata": {
      "needs_background": "light"
     },
     "output_type": "display_data"
    },
    {
     "data": {
      "image/png": "[encoded data removed]",
      "text/plain": [
       "<Figure size 648x432 with 1 Axes>"
      ]
     },
     "metadata": {
      "needs_background": "light"
     },
     "output_type": "display_data"
    }
   ],
   "source": [
    "X1 = np.linspace(0,100,101)\n",
    "X2 = np.linspace(101,120,20)\n",
    "X3\n",
    "\n",
    "Y1 = np.sin(0.05*X) + 0.02*X + 0.2*np.sin(X)\n",
    "Y2 = np.repeat(Y1[-1], 20) \n",
    "Y3 = Y1[-1] + np.sin(0.03*X3)\n",
    "\n",
    "plt.plot(X2, Y2)\n",
    "\n",
    "PR = polynomial_regression(X, Y, 4)\n",
    "PR.inference()\n"
   ]
  },
  {
   "cell_type": "code",
   "execution_count": null,
   "metadata": {},
   "outputs": [],
   "source": [
    "class B_spline_regression:\n",
    "\n",
    "    def __init__(self, X, Y, num_knots, order):\n",
    "\n",
    "        # Data\n",
    "        self.X = X\n",
    "        self.Y = Y\n",
    "        self.X_train, self.X_test, self.Y_train, self.Y_test = train_test_split(self.X, self.Y, test_size=0.4)\n",
    "\n",
    "        # Parameters\n",
    "        self.num_knots = num_knots\n",
    "        self.order = order\n",
    "        self.theta = None\n",
    "        self.DOF = (self.num_knots + 1)*(self.order + 1) - (self.num_knots)*3\n",
    "\n",
    "        # Knots\n",
    "        self.knots = self.__knots(X)\n",
    "\n",
    "        # Prediction\n",
    "        self.Y_predict = None\n",
    "        self._MSE = None\n",
    "\n",
    "        self.__testing()\n",
    "\n",
    "    ### Internal Functions ###\n",
    "\n",
    "    def __knots(self, X):\n",
    "        spacing = (max(X)-min(X)) / (self.num_knots - 1)\n",
    "        knots = np.linspace(min(X)-(self.order*spacing), max(X)+(self.order*spacing), self.num_knots + (2*self.order))\n",
    "        return knots\n",
    "\n",
    "    def __basis0(self, xi):\n",
    "        return np.where(np.all([self.knots[:-1] <=  xi, xi < self.knots[1:]],axis=0), 1.0, 0.0)\n",
    "\n",
    "    def __basis(self, xi, p):\n",
    "        \"\"\"Recursive Cox - de Boor function (for internal use).\n",
    "        Compute basis functions and optionally their first derivatives.\n",
    "        \"\"\"\n",
    "\n",
    "        if p == 0:\n",
    "            return self.__basis0(xi)\n",
    "        else:\n",
    "            basis_p_minus_1 = self.__basis(xi, p - 1)\n",
    "\n",
    "        first_term_numerator = xi - self.knots[:-p]\n",
    "        first_term_denominator = self.knots[p:] - self.knots[:-p]\n",
    "\n",
    "        second_term_numerator = self.knots[(p + 1):] - xi\n",
    "        second_term_denominator = (self.knots[(p + 1):] -\n",
    "                                   self.knots[1:-p])\n",
    "\n",
    "\n",
    "        #Change numerator in last recursion if derivatives are desired\n",
    "        if compute_derivatives and p == self.p:\n",
    "\n",
    "            first_term_numerator = p\n",
    "            second_term_numerator = -p\n",
    "\n",
    "        #Disable divide by zero error because we check for it\n",
    "        with np.errstate(divide='ignore', invalid='ignore'):\n",
    "            first_term = np.where(first_term_denominator != 0.0,\n",
    "                                  (first_term_numerator /\n",
    "                                   first_term_denominator), 0.0)\n",
    "            second_term = np.where(second_term_denominator != 0.0,\n",
    "                                   (second_term_numerator /\n",
    "                                    second_term_denominator), 0.0)\n",
    "\n",
    "        return  (first_term[:-1] * basis_p_minus_1[:-1] +\n",
    "                 second_term * basis_p_minus_1[1:])\n",
    "\n",
    "\n",
    "\n",
    "    def __testing(self):\n",
    "        for xi in np.random.choice(self.X_train, 5):\n",
    "            print(self.__basis(xi, 3))\n",
    "\n",
    "        print(self.knots)\n",
    "        print(self.knots[])\n",
    "        return\n",
    "\n",
    "    \n",
    "\n",
    "    ## Inference functions\n",
    "\n",
    "    def design_matrix(self, X):\n",
    "        B = []\n",
    "        for x in X:\n",
    "            b = self.piecewise_polynomial(x)\n",
    "            B.append(b)\n",
    "        B = np.array(B).reshape([X.shape[0], self.DOF])\n",
    "        return B"
   ]
  }
 ],
 "metadata": {
  "interpreter": {
   "hash": "8763e5ea16b716ad1eeffeab5f34109bd722594d0305e114e3d37565ed57b2a4"
  },
  "kernelspec": {
   "display_name": "Python 3.9.7 64-bit ('base': conda)",
   "language": "python",
   "name": "python3"
  },
  "language_info": {
   "codemirror_mode": {
    "name": "ipython",
    "version": 3
   },
   "file_extension": ".py",
   "mimetype": "text/x-python",
   "name": "python",
   "nbconvert_exporter": "python",
   "pygments_lexer": "ipython3",
   "version": "3.9.7"
  },
  "orig_nbformat": 4
 },
 "nbformat": 4,
 "nbformat_minor": 2
}
